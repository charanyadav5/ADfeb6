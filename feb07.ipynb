{
  "nbformat": 4,
  "nbformat_minor": 0,
  "metadata": {
    "colab": {
      "private_outputs": true,
      "provenance": [],
      "authorship_tag": "ABX9TyMx29eNvFiQkJVrut6dyXkK",
      "include_colab_link": true
    },
    "kernelspec": {
      "name": "python3",
      "display_name": "Python 3"
    },
    "language_info": {
      "name": "python"
    }
  },
  "cells": [
    {
      "cell_type": "markdown",
      "metadata": {
        "id": "view-in-github",
        "colab_type": "text"
      },
      "source": [
        "<a href=\"https://colab.research.google.com/github/charanyadav5/ADfeb6/blob/main/feb07.ipynb\" target=\"_parent\"><img src=\"https://colab.research.google.com/assets/colab-badge.svg\" alt=\"Open In Colab\"/></a>"
      ]
    },
    {
      "cell_type": "code",
      "execution_count": null,
      "metadata": {
        "id": "XrvMUMbqXujK"
      },
      "outputs": [],
      "source": [
        "import pandas as pd\n",
        "from sklearn.preprocessing import LabelEncoder"
      ]
    },
    {
      "cell_type": "code",
      "source": [
        "data={\"color\":[\"green\",\"yellow\",\"orange\",\"red\",\"blue\"]}\n",
        "df=pd.DataFrame(data)\n",
        "df"
      ],
      "metadata": {
        "id": "f4JMhjsmaZC1"
      },
      "execution_count": null,
      "outputs": []
    },
    {
      "cell_type": "code",
      "source": [
        "label_en=LabelEncoder()\n",
        "df[\"color_label\"]=label_en.fit_transform(df[\"color\"])\n",
        "df.head()\n"
      ],
      "metadata": {
        "id": "yxVjc2Pma4Wc"
      },
      "execution_count": null,
      "outputs": []
    },
    {
      "cell_type": "code",
      "source": [
        "one_hot_en=OneHotEncoder(sparse_output=False)\n",
        "one_hot_array=one_hot_en.fit_transform(df[['color']])\n",
        "one_hot_df=pd.DataFrame(one_hot_array,columns=one_hot_en.get_feature_names_out())\n",
        "df=pd.concat([df,one_hot_df],axis=1)\n",
        "df"
      ],
      "metadata": {
        "id": "W_0B4BAiblN1"
      },
      "execution_count": null,
      "outputs": []
    },
    {
      "cell_type": "code",
      "source": [],
      "metadata": {
        "id": "7olkU5LidLAU"
      },
      "execution_count": null,
      "outputs": []
    }
  ]
}