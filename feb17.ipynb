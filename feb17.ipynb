{
  "nbformat": 4,
  "nbformat_minor": 0,
  "metadata": {
    "colab": {
      "private_outputs": true,
      "provenance": [],
      "authorship_tag": "ABX9TyNdOu0kzDnepMUsQdGuwN5g",
      "include_colab_link": true
    },
    "kernelspec": {
      "name": "python3",
      "display_name": "Python 3"
    },
    "language_info": {
      "name": "python"
    }
  },
  "cells": [
    {
      "cell_type": "markdown",
      "metadata": {
        "id": "view-in-github",
        "colab_type": "text"
      },
      "source": [
        "<a href=\"https://colab.research.google.com/github/charanyadav5/ADfeb6/blob/main/feb17.ipynb\" target=\"_parent\"><img src=\"https://colab.research.google.com/assets/colab-badge.svg\" alt=\"Open In Colab\"/></a>"
      ]
    },
    {
      "cell_type": "code",
      "execution_count": null,
      "metadata": {
        "id": "SWSezH9RT_r0"
      },
      "outputs": [],
      "source": [
        "#pip install mixtend"
      ]
    },
    {
      "cell_type": "code",
      "source": [
        "import pandas as pd\n",
        "from mlxtend.frequent_patterns import apriori, association_rules\n",
        "import warnings\n",
        "warnings.filterwarnings('ignore')"
      ],
      "metadata": {
        "id": "Q1CPBy8AURMf"
      },
      "execution_count": null,
      "outputs": []
    },
    {
      "cell_type": "code",
      "source": [
        "titanic = pd.read_csv('/content/Titanic.csv')\n",
        "titanic.head()"
      ],
      "metadata": {
        "id": "DFrIFQMwUnRM"
      },
      "execution_count": null,
      "outputs": []
    },
    {
      "cell_type": "code",
      "source": [
        "titanic['Class'].unique()\n"
      ],
      "metadata": {
        "id": "vNISYHaKVKgi"
      },
      "execution_count": null,
      "outputs": []
    },
    {
      "cell_type": "code",
      "source": [
        "titanic['Class'].value_counts()\n"
      ],
      "metadata": {
        "id": "qbc6czuhWXm7"
      },
      "execution_count": null,
      "outputs": []
    },
    {
      "cell_type": "code",
      "source": [
        "titanic['Age'].unique()"
      ],
      "metadata": {
        "id": "y6UUt5cXWseD"
      },
      "execution_count": null,
      "outputs": []
    },
    {
      "cell_type": "code",
      "source": [
        "titanic['Age'].value_counts()"
      ],
      "metadata": {
        "id": "JQF7-3DHW0tT"
      },
      "execution_count": null,
      "outputs": []
    },
    {
      "cell_type": "code",
      "source": [
        "titanic['Gender'].unique()"
      ],
      "metadata": {
        "id": "PDMmxbPeW_hq"
      },
      "execution_count": null,
      "outputs": []
    },
    {
      "cell_type": "code",
      "source": [
        "titanic['Gender'].value_counts()"
      ],
      "metadata": {
        "id": "hJ_LD8jTXGJU"
      },
      "execution_count": null,
      "outputs": []
    },
    {
      "cell_type": "code",
      "source": [
        "df=pd.get_dummies(titanic)\n",
        "df.head()"
      ],
      "metadata": {
        "id": "jO8e1v12XNk2"
      },
      "execution_count": null,
      "outputs": []
    },
    {
      "cell_type": "code",
      "source": [
        "frequent_itemsets=apriori(df, min_support=0.1, use_colnames=True)\n",
        "frequent_itemsets"
      ],
      "metadata": {
        "id": "9AvZsVjTXfNJ"
      },
      "execution_count": null,
      "outputs": []
    },
    {
      "cell_type": "code",
      "source": [
        "rules = association_rules(frequent_itemsets, metric=\"lift\", min_threshold=0.7)\n",
        "rules"
      ],
      "metadata": {
        "id": "2xcrBDd6XqiA"
      },
      "execution_count": null,
      "outputs": []
    },
    {
      "cell_type": "code",
      "source": [],
      "metadata": {
        "id": "U52F9pAtacLA"
      },
      "execution_count": null,
      "outputs": []
    }
  ]
}