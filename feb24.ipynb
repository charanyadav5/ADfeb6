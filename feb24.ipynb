{
  "nbformat": 4,
  "nbformat_minor": 0,
  "metadata": {
    "colab": {
      "private_outputs": true,
      "provenance": [],
      "authorship_tag": "ABX9TyM2sRw3zJWZu6Jibp7HF6fn",
      "include_colab_link": true
    },
    "kernelspec": {
      "name": "python3",
      "display_name": "Python 3"
    },
    "language_info": {
      "name": "python"
    }
  },
  "cells": [
    {
      "cell_type": "markdown",
      "metadata": {
        "id": "view-in-github",
        "colab_type": "text"
      },
      "source": [
        "<a href=\"https://colab.research.google.com/github/charanyadav5/ADfeb6/blob/main/feb24.ipynb\" target=\"_parent\"><img src=\"https://colab.research.google.com/assets/colab-badge.svg\" alt=\"Open In Colab\"/></a>"
      ]
    },
    {
      "cell_type": "code",
      "execution_count": null,
      "metadata": {
        "id": "tekCkpPCYKwa"
      },
      "outputs": [],
      "source": [
        "import pandas as pd\n",
        "import numpy as np\n"
      ]
    },
    {
      "cell_type": "code",
      "source": [
        "movies_df = pd.read_csv('/content/Movie.csv')"
      ],
      "metadata": {
        "id": "vIApSDRJY5Gs"
      },
      "execution_count": null,
      "outputs": []
    },
    {
      "cell_type": "code",
      "source": [
        "movies_df[0:5]"
      ],
      "metadata": {
        "id": "T4NKR_3mZfxm"
      },
      "execution_count": null,
      "outputs": []
    },
    {
      "cell_type": "code",
      "source": [
        "len(movies_df.userId.unique())"
      ],
      "metadata": {
        "id": "L4wDj48YZkQ1"
      },
      "execution_count": null,
      "outputs": []
    },
    {
      "cell_type": "code",
      "source": [
        "len(movies_df.userId.unique())"
      ],
      "metadata": {
        "id": "QzB-zBbqZnbK"
      },
      "execution_count": null,
      "outputs": []
    },
    {
      "cell_type": "code",
      "source": [
        "len(movies_df.movie.unique())"
      ],
      "metadata": {
        "id": "ngHhT9l_ZqJx"
      },
      "execution_count": null,
      "outputs": []
    },
    {
      "cell_type": "code",
      "source": [
        "movies_df.head()"
      ],
      "metadata": {
        "id": "c1ZJKObQZtqN"
      },
      "execution_count": null,
      "outputs": []
    },
    {
      "cell_type": "code",
      "source": [
        "user_movies_df = movies_df.pivot(index='userId',\n",
        "                                 columns='movie',\n",
        "                                 values='rating').reset_index(drop=True)\n",
        ""
      ],
      "metadata": {
        "id": "qbnQJ3v-ZwoI"
      },
      "execution_count": null,
      "outputs": []
    },
    {
      "cell_type": "code",
      "source": [
        "user_movies_df"
      ],
      "metadata": {
        "id": "KqIs_U16Z2PL"
      },
      "execution_count": null,
      "outputs": []
    },
    {
      "cell_type": "code",
      "source": [
        "movies_df.shape"
      ],
      "metadata": {
        "id": "-UhHaTRTZ5LA"
      },
      "execution_count": null,
      "outputs": []
    },
    {
      "cell_type": "code",
      "source": [
        "user_movies_df.index = movies_df.userId.unique()"
      ],
      "metadata": {
        "id": "5z3vTVz1Z77T"
      },
      "execution_count": null,
      "outputs": []
    },
    {
      "cell_type": "code",
      "source": [
        "user_movies_df"
      ],
      "metadata": {
        "id": "MtKzoqW4Z_Cd"
      },
      "execution_count": null,
      "outputs": []
    },
    {
      "cell_type": "code",
      "source": [
        "#Impute those NaNs with 0 values\n",
        "user_movies_df.fillna(0, inplace=True)"
      ],
      "metadata": {
        "id": "55DLAmP4aCbn"
      },
      "execution_count": null,
      "outputs": []
    },
    {
      "cell_type": "code",
      "source": [
        "user_movies_df"
      ],
      "metadata": {
        "id": "uPNyMApRaF-Q"
      },
      "execution_count": null,
      "outputs": []
    },
    {
      "cell_type": "code",
      "source": [
        "#Calculating Cosine Similarity between Users\n",
        "from sklearn.metrics import pairwise_distances\n",
        "from scipy.spatial.distance import cosine, correlation"
      ],
      "metadata": {
        "id": "qFUZ88HqaI_9"
      },
      "execution_count": null,
      "outputs": []
    },
    {
      "cell_type": "code",
      "source": [
        "user_sim = 1 - pairwise_distances( user_movies_df.values,metric='cosine')"
      ],
      "metadata": {
        "id": "rM9rybXIaMiL"
      },
      "execution_count": null,
      "outputs": []
    },
    {
      "cell_type": "code",
      "source": [
        "user_sim\n"
      ],
      "metadata": {
        "id": "N8H_zU2zaPbh"
      },
      "execution_count": null,
      "outputs": []
    },
    {
      "cell_type": "code",
      "source": [
        "\n",
        "user_sim_df = pd.DataFrame(user_sim)\n",
        "user_sim_df.head()"
      ],
      "metadata": {
        "id": "A3Wv1ggNaTCe"
      },
      "execution_count": null,
      "outputs": []
    },
    {
      "cell_type": "code",
      "source": [
        "user_sim_df.index = movies_df.userId.unique()\n",
        "user_sim_df.columns = movies_df.userId.unique()"
      ],
      "metadata": {
        "id": "FT-ruhBaaW6i"
      },
      "execution_count": null,
      "outputs": []
    },
    {
      "cell_type": "code",
      "source": [
        "user_sim_df.iloc[0:5, 0:5]"
      ],
      "metadata": {
        "id": "OagdzSyiaj-g"
      },
      "execution_count": null,
      "outputs": []
    },
    {
      "cell_type": "code",
      "source": [
        "np.fill_diagonal(user_sim, 0)\n",
        "user_sim_df.iloc[0:5, 0:5]"
      ],
      "metadata": {
        "id": "gapQaGQKanJQ"
      },
      "execution_count": null,
      "outputs": []
    },
    {
      "cell_type": "code",
      "source": [
        "user_sim_df.idxmax(axis=1)[0:5]"
      ],
      "metadata": {
        "id": "AzihN3DQapvl"
      },
      "execution_count": null,
      "outputs": []
    },
    {
      "cell_type": "code",
      "source": [
        "movies_df[(movies_df['userId']==6) | (movies_df['userId']==168)]"
      ],
      "metadata": {
        "id": "TvtR5kbHauhw"
      },
      "execution_count": null,
      "outputs": []
    },
    {
      "cell_type": "code",
      "source": [
        "user_1=movies_df[movies_df['userId']==6]"
      ],
      "metadata": {
        "id": "sfljGtSxaxTW"
      },
      "execution_count": null,
      "outputs": []
    },
    {
      "cell_type": "code",
      "source": [
        "user_2=movies_df[movies_df['userId']==11]"
      ],
      "metadata": {
        "id": "5HEe44N7a1Bj"
      },
      "execution_count": null,
      "outputs": []
    },
    {
      "cell_type": "code",
      "source": [
        "user_2.movie"
      ],
      "metadata": {
        "id": "gvg_jcika3Vn"
      },
      "execution_count": null,
      "outputs": []
    },
    {
      "cell_type": "code",
      "source": [
        "user_1.movie"
      ],
      "metadata": {
        "id": "TFjWe6iPa_uB"
      },
      "execution_count": null,
      "outputs": []
    },
    {
      "cell_type": "code",
      "source": [
        "pd.merge(user_1,user_2,on='movie',how='outer')"
      ],
      "metadata": {
        "id": "0duU7BYgbDVf"
      },
      "execution_count": null,
      "outputs": []
    },
    {
      "cell_type": "code",
      "source": [],
      "metadata": {
        "id": "kK2bI1embGZC"
      },
      "execution_count": null,
      "outputs": []
    }
  ]
}