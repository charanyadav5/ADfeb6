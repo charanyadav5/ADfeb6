{
  "nbformat": 4,
  "nbformat_minor": 0,
  "metadata": {
    "colab": {
      "private_outputs": true,
      "provenance": [],
      "toc_visible": true,
      "authorship_tag": "ABX9TyMjYbsPeU2Ppc6vTbqdSVyH",
      "include_colab_link": true
    },
    "kernelspec": {
      "name": "python3",
      "display_name": "Python 3"
    },
    "language_info": {
      "name": "python"
    }
  },
  "cells": [
    {
      "cell_type": "markdown",
      "metadata": {
        "id": "view-in-github",
        "colab_type": "text"
      },
      "source": [
        "<a href=\"https://colab.research.google.com/github/charanyadav5/ADfeb6/blob/main/_Get_the_actual_column_names_print(data_columns)_Assuming_the_correct_column_name_is_'Heart_Disease'_data_%3D_pd_get_dummies(data%2C_columns%3D%5B'Heart_Disease'%5D%2C_drop_first%3DTrue)_data_head().ipynb\" target=\"_parent\"><img src=\"https://colab.research.google.com/assets/colab-badge.svg\" alt=\"Open In Colab\"/></a>"
      ]
    },
    {
      "cell_type": "code",
      "execution_count": null,
      "metadata": {
        "id": "mNBIgKihcFjt"
      },
      "outputs": [],
      "source": [
        "!pip install streamlit"
      ]
    },
    {
      "cell_type": "code",
      "source": [
        "import numpy as np\n",
        "import pandas as pd\n",
        "import matplotlib.pyplot as plt\n",
        "import seaborn as sns\n",
        "from sklearn.model_selection import train_test_split\n",
        "from sklearn.tree import DecisionTreeClassifier\n",
        "from sklearn.metrics import accuracy_score,precision_score,recall_score,f1_score,roc_auc_score,confusion_matrix\n",
        "\n"
      ],
      "metadata": {
        "id": "cNHIv_yVcNTv"
      },
      "execution_count": null,
      "outputs": []
    },
    {
      "cell_type": "code",
      "source": [
        "data=pd.read_csv('/content/Heart_Disease_Dataset.csv')"
      ],
      "metadata": {
        "id": "u3lhgj84cR7H"
      },
      "execution_count": null,
      "outputs": []
    },
    {
      "cell_type": "code",
      "source": [
        "data.head()"
      ],
      "metadata": {
        "id": "ECTa98lfkBzw"
      },
      "execution_count": null,
      "outputs": []
    },
    {
      "cell_type": "code",
      "source": [
        "data.info()"
      ],
      "metadata": {
        "id": "MNCKU7dlkFyE"
      },
      "execution_count": null,
      "outputs": []
    },
    {
      "cell_type": "code",
      "source": [
        "data.shape"
      ],
      "metadata": {
        "id": "J1toV1fukLnO"
      },
      "execution_count": null,
      "outputs": []
    },
    {
      "cell_type": "code",
      "source": [
        "len(data[data.duplicated()])"
      ],
      "metadata": {
        "id": "8HB8DJIZkanv"
      },
      "execution_count": null,
      "outputs": []
    },
    {
      "cell_type": "code",
      "source": [
        "for column in data.columns:\n",
        "  print(data[column])\n"
      ],
      "metadata": {
        "id": "fWoZuWeEmzBH"
      },
      "execution_count": null,
      "outputs": []
    },
    {
      "cell_type": "code",
      "source": [
        "data.columns"
      ],
      "metadata": {
        "id": "ksqLicaVnyUT"
      },
      "execution_count": null,
      "outputs": []
    },
    {
      "cell_type": "code",
      "source": [
        "data=pd.get_dummies(data,columns=['Diabetic'],drop_first=True)\n",
        "data.head()"
      ],
      "metadata": {
        "id": "UqSC46UVomvE"
      },
      "execution_count": null,
      "outputs": []
    },
    {
      "cell_type": "code",
      "source": [
        "binary_columns=[\"pH\",\"Solids\",\"Chlloramines\",\"Sulfate\",\"Condutivity\",\"Organic_carbon\",\"Trihalomethanes\",\"Potability\"]\n",
        "for col in binary_columns:\n",
        "  data[col]=data[col].map({'Yes':1,'No':0})"
      ],
      "metadata": {
        "id": "EM_z3fowo95u"
      },
      "execution_count": null,
      "outputs": []
    },
    {
      "cell_type": "code",
      "source": [
        "x=data.drop['Heart Disease']\n",
        "y=data['Heart Disease'].map({'Yes':1,'No':0})\n"
      ],
      "metadata": {
        "id": "UnT5D2WOsOfa"
      },
      "execution_count": null,
      "outputs": []
    },
    {
      "cell_type": "code",
      "source": [
        "x_train,x_test,y_train,y_test=train_test_split(x,y,test_size=0.2,random_state=42)\n"
      ],
      "metadata": {
        "id": "dvnzLEGeuxpc"
      },
      "execution_count": null,
      "outputs": []
    },
    {
      "cell_type": "code",
      "source": [
        "_clf=DecisionTreeClassifier(max_depth=5,criterion='gini',random)\n",
        "clf.fit(x_train,y_train)"
      ],
      "metadata": {
        "id": "nwrp6HSdvfsz"
      },
      "execution_count": null,
      "outputs": []
    }
  ]
}